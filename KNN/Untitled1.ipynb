{
 "cells": [
  {
   "cell_type": "code",
   "execution_count": 1,
   "id": "cc940303",
   "metadata": {},
   "outputs": [
    {
     "ename": "NameError",
     "evalue": "name 'rand_bi_gauss' is not defined",
     "output_type": "error",
     "traceback": [
      "\u001b[1;31m---------------------------------------------------------------------------\u001b[0m",
      "\u001b[1;31mNameError\u001b[0m                                 Traceback (most recent call last)",
      "Cell \u001b[1;32mIn[1], line 8\u001b[0m\n\u001b[0;32m      5\u001b[0m params_checkers \u001b[38;5;241m=\u001b[39m \u001b[38;5;28mdict\u001b[39m(n1\u001b[38;5;241m=\u001b[39m\u001b[38;5;241m150\u001b[39m, n2\u001b[38;5;241m=\u001b[39m\u001b[38;5;241m150\u001b[39m)\n\u001b[0;32m      7\u001b[0m \u001b[38;5;66;03m# On génère les différents de jeux de données associés à chaque fonction\u001b[39;00m\n\u001b[1;32m----> 8\u001b[0m data1, labels1 \u001b[38;5;241m=\u001b[39m rand_bi_gauss(\u001b[38;5;241m*\u001b[39m\u001b[38;5;241m*\u001b[39mparams_bi_gauss)\n\u001b[0;32m      9\u001b[0m data2, labels2 \u001b[38;5;241m=\u001b[39m rand_tri_gauss(\u001b[38;5;241m*\u001b[39m\u001b[38;5;241m*\u001b[39mparams_tri_gauss)\n\u001b[0;32m     10\u001b[0m data3, labels3 \u001b[38;5;241m=\u001b[39m rand_clown(\u001b[38;5;241m*\u001b[39m\u001b[38;5;241m*\u001b[39mparams_clown)\n",
      "\u001b[1;31mNameError\u001b[0m: name 'rand_bi_gauss' is not defined"
     ]
    }
   ],
   "source": [
    "# Paramètres pour chaque fonction\n",
    "params_bi_gauss = dict(n1=20, n2=20, mu1=[1, 1], mu2=[-1, -1], sigmas1=[0.9, 0.9], sigmas2=[0.9, 0.9])\n",
    "params_tri_gauss = dict(n1=50, n2=50, n3=50, mu1=[1, 1], mu2=[-1, -1], mu3=[1, -1], sigma1=[0.9, 0.9], sigma2=[0.9, 0.9], sigma3=[0.9, 0.9])\n",
    "params_clown = dict(n1=50, n2=50, sigma1=1, sigma2=5)\n",
    "params_checkers = dict(n1=150, n2=150)\n",
    "\n",
    "# On génère les différents de jeux de données associés à chaque fonction\n",
    "data1, labels1 = rand_bi_gauss(**params_bi_gauss)\n",
    "data2, labels2 = rand_tri_gauss(**params_tri_gauss)\n",
    "data3, labels3 = rand_clown(**params_clown)\n",
    "data4, labels4 = rand_checkers(**params_checkers)"
   ]
  }
 ],
 "metadata": {
  "kernelspec": {
   "display_name": "Python 3 (ipykernel)",
   "language": "python",
   "name": "python3"
  },
  "language_info": {
   "codemirror_mode": {
    "name": "ipython",
    "version": 3
   },
   "file_extension": ".py",
   "mimetype": "text/x-python",
   "name": "python",
   "nbconvert_exporter": "python",
   "pygments_lexer": "ipython3",
   "version": "3.11.5"
  }
 },
 "nbformat": 4,
 "nbformat_minor": 5
}
